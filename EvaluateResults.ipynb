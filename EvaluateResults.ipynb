{
 "cells": [
  {
   "cell_type": "code",
   "execution_count": 1,
   "metadata": {},
   "outputs": [],
   "source": [
    "from nltk.translate.bleu_score import sentence_bleu, corpus_bleu"
   ]
  },
  {
   "cell_type": "code",
   "execution_count": 2,
   "metadata": {},
   "outputs": [],
   "source": [
    "def convert_sentence_to_list(sentence):\n",
    "    sentence = sentence.split(' ')\n",
    "    staring_token = '<s>'\n",
    "    while staring_token in sentence:\n",
    "        sentence.remove(staring_token)\n",
    "    return sentence"
   ]
  },
  {
   "cell_type": "code",
   "execution_count": 3,
   "metadata": {},
   "outputs": [],
   "source": [
    "with open('test.article.txt', 'r') as f:\n",
    "    test_xs = f.readlines()\n",
    "test_xs = [x.strip('\\n') for x in test_xs]"
   ]
  },
  {
   "cell_type": "code",
   "execution_count": 4,
   "metadata": {},
   "outputs": [],
   "source": [
    "with open('test.article.txt_actual', 'r') as f:\n",
    "    test_gnmt_xs = f.readlines()\n",
    "test_gnmt_xs = [x.strip('\\n') for x in test_gnmt_xs]"
   ]
  },
  {
   "cell_type": "code",
   "execution_count": 5,
   "metadata": {},
   "outputs": [],
   "source": [
    "with open('test.title.txt', 'r') as f:\n",
    "    test_ys = f.readlines()\n",
    "test_ys = [y.strip('\\n') for y in test_ys]"
   ]
  },
  {
   "cell_type": "code",
   "execution_count": 6,
   "metadata": {},
   "outputs": [],
   "source": [
    "predictions_gnmt = list()\n",
    "with open('test.result.txt', 'r') as f:\n",
    "    predictions_gnmt = f.readlines()\n",
    "predictions_gnmt = [p.strip('\\n') for p in predictions_gnmt]"
   ]
  },
  {
   "cell_type": "code",
   "execution_count": 7,
   "metadata": {},
   "outputs": [],
   "source": [
    "predictions_namas = list()\n",
    "with open('test.log', 'r') as f:\n",
    "    predictions_namas = f.readlines()\n",
    "predictions_namas = [p.strip('\\n') for p in predictions_namas]\n",
    "# predictions_namas = predictions_namas[1::2]"
   ]
  },
  {
   "cell_type": "code",
   "execution_count": 8,
   "metadata": {},
   "outputs": [],
   "source": [
    "# Make mapping for ground truths\n",
    "test_map = dict(zip(test_xs, test_ys))"
   ]
  },
  {
   "cell_type": "code",
   "execution_count": 9,
   "metadata": {},
   "outputs": [],
   "source": [
    "# Determine hypotheses and references for GNMT\n",
    "hs_gnmt = [convert_sentence_to_list(p) for p in predictions_gnmt]\n",
    "rs_gnmt = [[convert_sentence_to_list(test_map[x])] for x in test_gnmt_xs]"
   ]
  },
  {
   "cell_type": "code",
   "execution_count": 10,
   "metadata": {},
   "outputs": [],
   "source": [
    "# Determine hypotheses and references for NAMAS\n",
    "hs_namas = [convert_sentence_to_list(p) for p in predictions_namas]\n",
    "test_namas_xs = test_xs[:len(predictions_namas)]\n",
    "rs_namas = [[convert_sentence_to_list(test_map[x])] for x in test_namas_xs]"
   ]
  },
  {
   "cell_type": "code",
   "execution_count": 11,
   "metadata": {},
   "outputs": [],
   "source": [
    "bleu_corpus_gnmt = corpus_bleu(rs_gnmt, hs_gnmt)\n",
    "bleu_corpus_namas = corpus_bleu(rs_namas, hs_namas)"
   ]
  },
  {
   "cell_type": "code",
   "execution_count": 12,
   "metadata": {},
   "outputs": [
    {
     "name": "stderr",
     "output_type": "stream",
     "text": [
      "/home/zhouz2/.conda/envs/rbenv/lib/python3.6/site-packages/nltk/translate/bleu_score.py:490: UserWarning: \n",
      "Corpus/Sentence contains 0 counts of 2-gram overlaps.\n",
      "BLEU scores might be undesirable; use SmoothingFunction().\n",
      "  warnings.warn(_msg)\n",
      "/home/zhouz2/.conda/envs/rbenv/lib/python3.6/site-packages/nltk/translate/bleu_score.py:490: UserWarning: \n",
      "Corpus/Sentence contains 0 counts of 3-gram overlaps.\n",
      "BLEU scores might be undesirable; use SmoothingFunction().\n",
      "  warnings.warn(_msg)\n",
      "/home/zhouz2/.conda/envs/rbenv/lib/python3.6/site-packages/nltk/translate/bleu_score.py:490: UserWarning: \n",
      "Corpus/Sentence contains 0 counts of 4-gram overlaps.\n",
      "BLEU scores might be undesirable; use SmoothingFunction().\n",
      "  warnings.warn(_msg)\n"
     ]
    }
   ],
   "source": [
    "bleu_sentence_gnmt = sum([sentence_bleu(r, h) for r, h in zip(rs_gnmt, hs_gnmt)])/len(rs_gnmt)\n",
    "bleu_sentence_namas = sum([sentence_bleu(r, h) for r, h in zip(rs_namas, hs_namas)])/len(rs_namas)"
   ]
  },
  {
   "cell_type": "code",
   "execution_count": 13,
   "metadata": {},
   "outputs": [
    {
     "name": "stdout",
     "output_type": "stream",
     "text": [
      "Number of total test cases (x, y): 381197 381197\n",
      "Number of total test cases outputted by GNMT (x, y): 342407 342407\n",
      "Number of total test cases outputted by NAMAS (x, y): 42380 42380\n",
      "Corpus BLEU score for GNMT: 0.03548353904600571\n",
      "Corpus BLEU score for NAMAS: 0.00032403405718144855\n",
      "Average sentence BLEU score for GNMT: 0.2880776907946939\n",
      "Average sentence BLEU score for NAMAS: 0.23144927578317664\n"
     ]
    }
   ],
   "source": [
    "print(\"Number of total test cases (x, y):\", len(test_xs), len(test_ys))\n",
    "print(\"Number of total test cases outputted by GNMT (x, y):\", len(test_gnmt_xs), len(predictions_gnmt))\n",
    "print(\"Number of total test cases outputted by NAMAS (x, y):\", len(test_namas_xs), len(predictions_namas))\n",
    "print(\"Corpus BLEU score for GNMT:\", bleu_corpus_gnmt)\n",
    "print(\"Corpus BLEU score for NAMAS:\", bleu_corpus_namas)\n",
    "print(\"Average sentence BLEU score for GNMT:\", bleu_sentence_gnmt)\n",
    "print(\"Average sentence BLEU score for NAMAS:\", bleu_sentence_namas)"
   ]
  }
 ],
 "metadata": {
  "kernelspec": {
   "display_name": "Python 3",
   "language": "python",
   "name": "python3"
  },
  "language_info": {
   "codemirror_mode": {
    "name": "ipython",
    "version": 3
   },
   "file_extension": ".py",
   "mimetype": "text/x-python",
   "name": "python",
   "nbconvert_exporter": "python",
   "pygments_lexer": "ipython3",
   "version": "3.6.4"
  }
 },
 "nbformat": 4,
 "nbformat_minor": 2
}
