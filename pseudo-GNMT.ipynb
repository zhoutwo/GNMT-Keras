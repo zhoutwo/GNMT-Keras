{
 "cells": [
  {
   "cell_type": "code",
   "execution_count": 1,
   "metadata": {},
   "outputs": [],
   "source": [
    "import numpy as np\n",
    "# fix random seed for reproducibility\n",
    "seed = 7\n",
    "np.random.seed(seed)"
   ]
  },
  {
   "cell_type": "code",
   "execution_count": 2,
   "metadata": {},
   "outputs": [
    {
     "name": "stderr",
     "output_type": "stream",
     "text": [
      "/home/zhouz2/.conda/envs/rbenv/lib/python3.6/site-packages/h5py/__init__.py:36: FutureWarning: Conversion of the second argument of issubdtype from `float` to `np.floating` is deprecated. In future, it will be treated as `np.float64 == np.dtype(float).type`.\n",
      "  from ._conv import register_converters as _register_converters\n",
      "Using TensorFlow backend.\n"
     ]
    }
   ],
   "source": [
    "from keras import backend as K\n",
    "from keras.models import Model\n",
    "from keras.layers import Add, Bidirectional, Concatenate, Input, LSTM, Dense, Conv2D, Flatten, MaxPooling2D, Reshape, Activation, Embedding, TimeDistributed\n",
    "from keras.callbacks import EarlyStopping\n",
    "from keras.preprocessing.text import Tokenizer\n",
    "import pandas as pd\n",
    "\n",
    "from IPython.display import SVG\n",
    "from keras.utils.vis_utils import model_to_dot"
   ]
  },
  {
   "cell_type": "code",
   "execution_count": 3,
   "metadata": {},
   "outputs": [],
   "source": [
    "df = pd.read_csv('reuters.csv', delimiter='\\t', names=['id', 'timestamp', 'title', 'url', 'first_line'])"
   ]
  },
  {
   "cell_type": "code",
   "execution_count": 4,
   "metadata": {},
   "outputs": [],
   "source": [
    "df = df.set_index('id')"
   ]
  },
  {
   "cell_type": "code",
   "execution_count": 5,
   "metadata": {},
   "outputs": [],
   "source": [
    "batch_size = 64  # Batch size for training.\n",
    "epochs = 10000  # Number of epochs to train for.\n",
    "latent_dim = 10#24  # Latent dimensionality of the encoding space (number of nodes per LSTM layer).\n",
    "dense_dim = 10#24 # Number of nodes in the Dense layer of the attention module\n",
    "num_samples = min(10, len(df))  # Number of samples to train on.\n",
    "num_lstm = 4 # Number of LSTM layers in the encoder and decoder."
   ]
  },
  {
   "cell_type": "code",
   "execution_count": 6,
   "metadata": {},
   "outputs": [],
   "source": [
    "input_texts = df['first_line'][:num_samples]\n",
    "output_texts = df['title'][:num_samples]"
   ]
  },
  {
   "cell_type": "code",
   "execution_count": 7,
   "metadata": {},
   "outputs": [],
   "source": [
    "input_texts = input_texts.apply(lambda i: i.strip().lower() + ' \\n')\n",
    "output_texts = output_texts.apply(lambda o: '\\t '+ o.strip().lower() + ' \\n')"
   ]
  },
  {
   "cell_type": "code",
   "execution_count": 8,
   "metadata": {},
   "outputs": [],
   "source": [
    "tokenizer = Tokenizer(filters='!\"#$%&()*+,-./:;<=>?@[\\\\]^_`{|}~', oov_token='<unk>')\n",
    "tokenizer.fit_on_texts(input_texts)\n",
    "tokenizer.fit_on_texts(output_texts)"
   ]
  },
  {
   "cell_type": "code",
   "execution_count": 9,
   "metadata": {},
   "outputs": [],
   "source": [
    "input_sequences = tokenizer.texts_to_sequences(input_texts)\n",
    "output_sequences = tokenizer.texts_to_sequences(output_texts)\n",
    "word_id_dict = tokenizer.word_index\n",
    "id_word_dict = dict()\n",
    "for k in word_id_dict:\n",
    "    id_word_dict[word_id_dict[k]] = k;"
   ]
  },
  {
   "cell_type": "code",
   "execution_count": 10,
   "metadata": {},
   "outputs": [],
   "source": [
    "num_samples = len(input_texts)\n",
    "max_encoder_seq_length = max([len(seq) for seq in input_sequences])\n",
    "max_decoder_seq_length = max([len(seq) for seq in output_sequences])\n",
    "num_dict_size = len(tokenizer.word_index)\n",
    "# num_input_tokens = len(input_dict)\n",
    "# num_output_tokens = len(output_dict)"
   ]
  },
  {
   "cell_type": "code",
   "execution_count": 11,
   "metadata": {},
   "outputs": [],
   "source": [
    "# input_data = np.zeros((num_samples, max_encoder_seq_length, latent_dim))\n",
    "# output_data = np.zeros((num_samples, max_decoder_seq_length, latent_dim))"
   ]
  },
  {
   "cell_type": "code",
   "execution_count": 12,
   "metadata": {},
   "outputs": [
    {
     "name": "stdout",
     "output_type": "stream",
     "text": [
      "Number of samples: 10\n",
      "Max sequence length for inputs: 42\n",
      "Max sequence length for outputs: 14\n",
      "Number of words in the dictionary (including OOV token): 258\n"
     ]
    }
   ],
   "source": [
    "print('Number of samples:', num_samples)\n",
    "print('Max sequence length for inputs:', max_encoder_seq_length)\n",
    "# print('Num of tokens for inputs:', num_input_tokens)\n",
    "print('Max sequence length for outputs:', max_decoder_seq_length)\n",
    "# print('Num of tokens for outputs:', num_output_tokens)\n",
    "print('Number of words in the dictionary (including OOV token):', num_dict_size)"
   ]
  },
  {
   "cell_type": "code",
   "execution_count": 13,
   "metadata": {},
   "outputs": [],
   "source": [
    "# encoder_input_data = np.zeros((num_samples, max_encoder_seq_length, num_input_tokens),dtype='float32')\n",
    "# reversed_encoder_input_data = np.zeros((num_samples, max_encoder_seq_length, num_input_tokens),dtype='float32')\n",
    "# decoder_input_data = np.zeros((num_samples, max_decoder_seq_length, num_output_tokens),dtype='float32')\n",
    "# decoder_target_data = np.zeros((num_samples, max_decoder_seq_length, num_output_tokens),dtype='float32')"
   ]
  },
  {
   "cell_type": "code",
   "execution_count": 14,
   "metadata": {},
   "outputs": [],
   "source": [
    "# for i in range(num_samples):\n",
    "#     input_text = input_tokenizer.texts_to_sequences(input_texts[i])\n",
    "#     input_text = input_dict\n",
    "#     encoder_input_data[i, :, :] = input_tokenizer.texts_to_sequences(input_texts[i])\n",
    "#     reversed_encoder_input_data[i, :, :] = encoder_input_data[i, ::-1, :]\n",
    "#     decoder_input_data[i, :, :] = output_tokenizer.texts_to_sequences(output_texts[i])\n",
    "#     decoder_target_data[i, :, :] = np.row(decoder_input_data[i, :, :], 1)\n",
    "#     decoder_target_data[i, 0, :] = 0;"
   ]
  },
  {
   "cell_type": "code",
   "execution_count": 82,
   "metadata": {},
   "outputs": [
    {
     "ename": "RuntimeError",
     "evalue": "Graph disconnected: cannot obtain value for tensor Tensor(\"encoder_inputs_41:0\", shape=(?, 42), dtype=float32) at layer \"encoder_inputs\". The following previous layers were accessed without issue: []",
     "output_type": "error",
     "traceback": [
      "\u001b[0;31m---------------------------------------------------------------------------\u001b[0m",
      "\u001b[0;31mRuntimeError\u001b[0m                              Traceback (most recent call last)",
      "\u001b[0;32m<ipython-input-82-f8463f6230f4>\u001b[0m in \u001b[0;36m<module>\u001b[0;34m()\u001b[0m\n\u001b[1;32m     32\u001b[0m \u001b[0mattention_output\u001b[0m \u001b[0;34m=\u001b[0m \u001b[0mDense\u001b[0m\u001b[0;34m(\u001b[0m\u001b[0mdense_dim\u001b[0m\u001b[0;34m,\u001b[0m \u001b[0mactivation\u001b[0m\u001b[0;34m=\u001b[0m\u001b[0;34m'relu'\u001b[0m\u001b[0;34m)\u001b[0m\u001b[0;34m(\u001b[0m\u001b[0mattention_input_with_encoded\u001b[0m\u001b[0;34m)\u001b[0m\u001b[0;34m\u001b[0m\u001b[0m\n\u001b[1;32m     33\u001b[0m \u001b[0mattention_output\u001b[0m \u001b[0;34m=\u001b[0m \u001b[0mDense\u001b[0m\u001b[0;34m(\u001b[0m\u001b[0mmax_encoder_seq_length\u001b[0m\u001b[0;34m,\u001b[0m \u001b[0mactivation\u001b[0m\u001b[0;34m=\u001b[0m\u001b[0;34m'softmax'\u001b[0m\u001b[0;34m)\u001b[0m\u001b[0;34m(\u001b[0m\u001b[0mattention_output\u001b[0m\u001b[0;34m)\u001b[0m\u001b[0;34m\u001b[0m\u001b[0m\n\u001b[0;32m---> 34\u001b[0;31m \u001b[0mattention_model\u001b[0m \u001b[0;34m=\u001b[0m \u001b[0mModel\u001b[0m\u001b[0;34m(\u001b[0m\u001b[0minputs\u001b[0m\u001b[0;34m=\u001b[0m\u001b[0mattention_input\u001b[0m\u001b[0;34m,\u001b[0m \u001b[0moutputs\u001b[0m\u001b[0;34m=\u001b[0m\u001b[0mattention_output\u001b[0m\u001b[0;34m)\u001b[0m\u001b[0;34m\u001b[0m\u001b[0m\n\u001b[0m\u001b[1;32m     35\u001b[0m \u001b[0mattention_model\u001b[0m\u001b[0;34m.\u001b[0m\u001b[0msummary\u001b[0m\u001b[0;34m(\u001b[0m\u001b[0;34m)\u001b[0m\u001b[0;34m\u001b[0m\u001b[0m\n\u001b[1;32m     36\u001b[0m \u001b[0;34m\u001b[0m\u001b[0m\n",
      "\u001b[0;32m~/.conda/envs/rbenv/lib/python3.6/site-packages/keras/legacy/interfaces.py\u001b[0m in \u001b[0;36mwrapper\u001b[0;34m(*args, **kwargs)\u001b[0m\n\u001b[1;32m     89\u001b[0m                 warnings.warn('Update your `' + object_name +\n\u001b[1;32m     90\u001b[0m                               '` call to the Keras 2 API: ' + signature, stacklevel=2)\n\u001b[0;32m---> 91\u001b[0;31m             \u001b[0;32mreturn\u001b[0m \u001b[0mfunc\u001b[0m\u001b[0;34m(\u001b[0m\u001b[0;34m*\u001b[0m\u001b[0margs\u001b[0m\u001b[0;34m,\u001b[0m \u001b[0;34m**\u001b[0m\u001b[0mkwargs\u001b[0m\u001b[0;34m)\u001b[0m\u001b[0;34m\u001b[0m\u001b[0m\n\u001b[0m\u001b[1;32m     92\u001b[0m         \u001b[0mwrapper\u001b[0m\u001b[0;34m.\u001b[0m\u001b[0m_original_function\u001b[0m \u001b[0;34m=\u001b[0m \u001b[0mfunc\u001b[0m\u001b[0;34m\u001b[0m\u001b[0m\n\u001b[1;32m     93\u001b[0m         \u001b[0;32mreturn\u001b[0m \u001b[0mwrapper\u001b[0m\u001b[0;34m\u001b[0m\u001b[0m\n",
      "\u001b[0;32m~/.conda/envs/rbenv/lib/python3.6/site-packages/keras/engine/topology.py\u001b[0m in \u001b[0;36m__init__\u001b[0;34m(self, inputs, outputs, name)\u001b[0m\n\u001b[1;32m   1807\u001b[0m                                 \u001b[0;34m'The following previous layers '\u001b[0m\u001b[0;34m\u001b[0m\u001b[0m\n\u001b[1;32m   1808\u001b[0m                                 \u001b[0;34m'were accessed without issue: '\u001b[0m \u001b[0;34m+\u001b[0m\u001b[0;34m\u001b[0m\u001b[0m\n\u001b[0;32m-> 1809\u001b[0;31m                                 str(layers_with_complete_input))\n\u001b[0m\u001b[1;32m   1810\u001b[0m                     \u001b[0;32mfor\u001b[0m \u001b[0mx\u001b[0m \u001b[0;32min\u001b[0m \u001b[0mnode\u001b[0m\u001b[0;34m.\u001b[0m\u001b[0moutput_tensors\u001b[0m\u001b[0;34m:\u001b[0m\u001b[0;34m\u001b[0m\u001b[0m\n\u001b[1;32m   1811\u001b[0m                         \u001b[0mcomputable_tensors\u001b[0m\u001b[0;34m.\u001b[0m\u001b[0mappend\u001b[0m\u001b[0;34m(\u001b[0m\u001b[0mx\u001b[0m\u001b[0;34m)\u001b[0m\u001b[0;34m\u001b[0m\u001b[0m\n",
      "\u001b[0;31mRuntimeError\u001b[0m: Graph disconnected: cannot obtain value for tensor Tensor(\"encoder_inputs_41:0\", shape=(?, 42), dtype=float32) at layer \"encoder_inputs\". The following previous layers were accessed without issue: []"
     ]
    }
   ],
   "source": [
    "## GNMT variant 1: \n",
    "# Define an input sequence and process it.\n",
    "encoder_inputs = Input(shape=(max_encoder_seq_length,), name='encoder_inputs')\n",
    "# print(encoder_inputs.shape)\n",
    "first_encoder_lstm = Bidirectional(LSTM(latent_dim, return_sequences=True), merge_mode='concat')\n",
    "# first_encoder_lstm = LSTM(latent_dim)\n",
    "next_input = Reshape((max_encoder_seq_length, 1))(encoder_inputs)\n",
    "next_input = first_encoder_lstm(next_input)\n",
    "# next_input = Reshape((1, latent_dim))(next_input)\n",
    "current_output = LSTM(latent_dim, return_sequences=True)(next_input)\n",
    "next_input = current_output\n",
    "# Assuming there are at least 3 LSTM layers\n",
    "for i in range(num_lstm-3):\n",
    "#     current_output = Reshape((1, latent_dim))(next_input)\n",
    "    current_output = LSTM(latent_dim, return_sequences=True)(next_input)\n",
    "    next_input = Add()([current_output, next_input])\n",
    "\n",
    "# current_output = Reshape((1, latent_dim))(next_input)\n",
    "encoder_outputs = LSTM(latent_dim, return_sequences=True, name='encoder_outputs')(next_input)\n",
    "\n",
    "# First layer of decoder\n",
    "decoder_inputs = Input(shape=(max_decoder_seq_length,), name='decoder_inputs')\n",
    "next_input = Reshape((max_decoder_seq_length, 1))(decoder_inputs)\n",
    "first_decoder_lstm = LSTM(latent_dim, return_sequences=True)\n",
    "decoder_output = first_decoder_lstm(next_input)\n",
    "# decoder_output = Reshape((latent_dim, 1))(decoder_output)\n",
    "\n",
    "# Attention module as a model\n",
    "attention_input = Input((latent_dim,))\n",
    "attention_input_reshaped = Reshape((1, latent_dim))(attention_input)\n",
    "attention_input_with_encoded = Concatenate(name='attention_input', axis=1)([encoder_outputs, attention_input_reshaped])\n",
    "attention_output = Dense(dense_dim, activation='relu')(attention_input_with_encoded)\n",
    "attention_output = Dense(max_encoder_seq_length, activation='softmax')(attention_output)\n",
    "attention_model = Model(inputs=attention_input, outputs=attention_output)\n",
    "attention_model.summary()\n",
    "\n",
    "# Rest of the decoder module\n",
    "print(decoder_output.shape)\n",
    "attention_model_output = TimeDistributed(attention_model)(decoder_output)\n",
    "print(attention_model_output.shape)\n",
    "# attention_model_output = Reshape()\n",
    "next_input = Concatenate()([attention_model_output, decoder_output])\n",
    "current_output = LSTM(latent_dim, return_sequences=True)(next_input)\n",
    "# current_output = Reshape((latent_dim, 1))(current_output)\n",
    "next_input = current_output\n",
    "for _ in range(num_lstm-3):\n",
    "    next_input_with_attention = Concatenate()([attention_model_output, next_input])\n",
    "    current_output = LSTM(latent_dim, return_sequences=True)(next_input_with_attention)\n",
    "#     current_output = Reshape((latent_dim, 1))(current_output)\n",
    "    next_input = Add()([current_output, next_input])\n",
    "\n",
    "next_input_with_attention = Concatenate()([attention_output, next_input])\n",
    "current_output = LSTM(latent_dim, return_sequences=True)(next_input_with_attention)\n",
    "decoder_output = TimeDistributed(Dense(num_dict_size, activation='softmax'))(current_output)\n",
    "\n",
    "# model = Model(inputs=[encoder_inputs, decoder_inputs], outputs=decoder_output)\n",
    "# model.compile(optimizer='rmsprop', loss='binary_crossentropy')\n",
    "# model.summary()"
   ]
  },
  {
   "cell_type": "code",
   "execution_count": 44,
   "metadata": {},
   "outputs": [],
   "source": [
    "encoder_input_data = np.zeros((num_samples, latent_dim, max_encoder_seq_length))\n",
    "decoder_input_data = np.zeros((num_samples, latent_dim, max_decoder_seq_length))\n",
    "decoder_target_data = np.zeros((num_samples, max_decoder_seq_length, num_dict_size))"
   ]
  },
  {
   "cell_type": "code",
   "execution_count": 36,
   "metadata": {},
   "outputs": [],
   "source": [
    "for i in range(num_samples):\n",
    "    for j in range(latent_dim):\n",
    "        input_row = input_sequences[i]\n",
    "        output_row = output_sequences[i]\n",
    "        encoder_input_data[i, j, :len(input_row)] = input_row\n",
    "        decoder_input_data[i, j, :len(output_row)] = output_row\n",
    "    for k in range(len(output_row)-1):\n",
    "        decoder_target_data[i, k, output_row[k+1]] = 1\n",
    "    for k in range(len(output_row), max_decoder_seq_length):\n",
    "        decoder_target_data[i, k, :] = 1/max_decoder_seq_length"
   ]
  },
  {
   "cell_type": "code",
   "execution_count": 37,
   "metadata": {
    "scrolled": true
   },
   "outputs": [
    {
     "data": {
      "text/plain": [
       "array([102., 103.,  22.,  32.,   3.,   9.,   1., 104.,  12., 105.,   4.,\n",
       "       106.,   1., 107.,   7.,   1., 108., 109., 110., 111.,  33.,   5.,\n",
       "        34., 112., 113., 114.,  35., 115., 116., 117., 118.,  11.,  36.,\n",
       "       119.,   1., 120.,   7., 121.,   2.,   0.,   0.,   0.])"
      ]
     },
     "execution_count": 37,
     "metadata": {},
     "output_type": "execute_result"
    }
   ],
   "source": [
    "encoder_input_data[0, 0, :]"
   ]
  },
  {
   "cell_type": "code",
   "execution_count": 38,
   "metadata": {},
   "outputs": [
    {
     "data": {
      "text/plain": [
       "array([  6., 235.,  12., 236.,  11.,  36.,   3., 237.,   7.,  33.,   2.,\n",
       "         0.,   0.,   0.])"
      ]
     },
     "execution_count": 38,
     "metadata": {},
     "output_type": "execute_result"
    }
   ],
   "source": [
    "decoder_input_data[0, 0, :]"
   ]
  },
  {
   "cell_type": "code",
   "execution_count": 39,
   "metadata": {},
   "outputs": [
    {
     "data": {
      "text/plain": [
       "array([0., 0., 0., 0., 0., 0., 0., 0., 0., 0., 0., 0., 0., 0., 0., 0., 0.,\n",
       "       0., 0., 0., 0., 0., 0., 0., 0., 0., 0., 0., 0., 0., 0., 0., 0., 0.,\n",
       "       0., 0., 0., 0., 0., 0., 0., 0., 0., 0., 0., 0., 0., 0., 0., 0., 0.,\n",
       "       0., 0., 0., 0., 0., 0., 0., 0., 0., 0., 0., 0., 0., 0., 0., 0., 0.,\n",
       "       0., 0., 0., 0., 0., 0., 0., 0., 0., 0., 0., 0., 0., 0., 0., 0., 0.,\n",
       "       0., 0., 0., 0., 0., 0., 0., 0., 0., 0., 0., 0., 0., 0., 0., 0., 0.,\n",
       "       0., 0., 0., 0., 0., 0., 0., 0., 0., 0., 0., 0., 0., 0., 0., 0., 0.,\n",
       "       0., 0., 0., 0., 0., 0., 0., 0., 0., 0., 0., 0., 0., 0., 0., 0., 0.,\n",
       "       0., 0., 0., 0., 0., 0., 0., 0., 0., 0., 0., 0., 0., 0., 0., 0., 0.,\n",
       "       0., 0., 0., 0., 0., 0., 0., 0., 0., 0., 0., 0., 0., 0., 0., 0., 0.,\n",
       "       0., 0., 0., 0., 0., 0., 0., 0., 0., 0., 0., 0., 0., 0., 0., 0., 0.,\n",
       "       0., 0., 0., 0., 0., 0., 0., 0., 0., 0., 0., 0., 0., 0., 0., 0., 0.,\n",
       "       0., 0., 0., 0., 0., 0., 0., 0., 0., 0., 0., 0., 0., 0., 0., 0., 0.,\n",
       "       0., 0., 0., 0., 0., 0., 0., 0., 0., 0., 0., 0., 0., 0., 1., 0., 0.,\n",
       "       0., 0., 0., 0., 0., 0., 0., 0., 0., 0., 0., 0., 0., 0., 0., 0., 0.,\n",
       "       0., 0., 0.])"
      ]
     },
     "execution_count": 39,
     "metadata": {},
     "output_type": "execute_result"
    }
   ],
   "source": [
    "decoder_target_data[0, 0, :]"
   ]
  },
  {
   "cell_type": "code",
   "execution_count": 40,
   "metadata": {},
   "outputs": [],
   "source": [
    "# for k in range(num_samples):\n",
    "#     encoder_input_data[k][:len(input_sequences[k])] = input_sequences[k][:]\n",
    "#     decoder_input_data[k][:len(output_sequences[k])] = output_sequences[k][:]\n",
    "#     decoder_target_data[k][:len(output_sequences[k])-1] = output_sequences[k][1:]"
   ]
  },
  {
   "cell_type": "code",
   "execution_count": 41,
   "metadata": {},
   "outputs": [],
   "source": [
    "# encoder_input_data = encoder_input_data.reshape((*encoder_input_data.shape, 1))\n",
    "# decoder_input_data = decoder_input_data.reshape((*decoder_input_data.shape, 1))\n",
    "# decoder_target_data = decoder_target_data.reshape((*decoder_target_data.shape, 1))"
   ]
  },
  {
   "cell_type": "code",
   "execution_count": 42,
   "metadata": {},
   "outputs": [
    {
     "ename": "ValueError",
     "evalue": "Error when checking target: expected time_distributed_2 to have shape (10, 258) but got array with shape (14, 258)",
     "output_type": "error",
     "traceback": [
      "\u001b[0;31m---------------------------------------------------------------------------\u001b[0m",
      "\u001b[0;31mValueError\u001b[0m                                Traceback (most recent call last)",
      "\u001b[0;32m<ipython-input-42-76f9a9dffeec>\u001b[0m in \u001b[0;36m<module>\u001b[0;34m()\u001b[0m\n\u001b[1;32m      3\u001b[0m model.fit([encoder_input_data, decoder_input_data], decoder_target_data,\n\u001b[1;32m      4\u001b[0m           \u001b[0mbatch_size\u001b[0m\u001b[0;34m=\u001b[0m\u001b[0mbatch_size\u001b[0m\u001b[0;34m,\u001b[0m\u001b[0;34m\u001b[0m\u001b[0m\n\u001b[0;32m----> 5\u001b[0;31m           \u001b[0mepochs\u001b[0m\u001b[0;34m=\u001b[0m\u001b[0mepochs\u001b[0m\u001b[0;31m#,\u001b[0m\u001b[0;34m\u001b[0m\u001b[0m\n\u001b[0m\u001b[1;32m      6\u001b[0m           \u001b[0;31m#validation_split=0.2\u001b[0m\u001b[0;34m\u001b[0m\u001b[0;34m\u001b[0m\u001b[0m\n\u001b[1;32m      7\u001b[0m          )\n",
      "\u001b[0;32m~/.conda/envs/rbenv/lib/python3.6/site-packages/keras/engine/training.py\u001b[0m in \u001b[0;36mfit\u001b[0;34m(self, x, y, batch_size, epochs, verbose, callbacks, validation_split, validation_data, shuffle, class_weight, sample_weight, initial_epoch, steps_per_epoch, validation_steps, **kwargs)\u001b[0m\n\u001b[1;32m   1591\u001b[0m             \u001b[0mclass_weight\u001b[0m\u001b[0;34m=\u001b[0m\u001b[0mclass_weight\u001b[0m\u001b[0;34m,\u001b[0m\u001b[0;34m\u001b[0m\u001b[0m\n\u001b[1;32m   1592\u001b[0m             \u001b[0mcheck_batch_axis\u001b[0m\u001b[0;34m=\u001b[0m\u001b[0;32mFalse\u001b[0m\u001b[0;34m,\u001b[0m\u001b[0;34m\u001b[0m\u001b[0m\n\u001b[0;32m-> 1593\u001b[0;31m             batch_size=batch_size)\n\u001b[0m\u001b[1;32m   1594\u001b[0m         \u001b[0;31m# Prepare validation data.\u001b[0m\u001b[0;34m\u001b[0m\u001b[0;34m\u001b[0m\u001b[0m\n\u001b[1;32m   1595\u001b[0m         \u001b[0mdo_validation\u001b[0m \u001b[0;34m=\u001b[0m \u001b[0;32mFalse\u001b[0m\u001b[0;34m\u001b[0m\u001b[0m\n",
      "\u001b[0;32m~/.conda/envs/rbenv/lib/python3.6/site-packages/keras/engine/training.py\u001b[0m in \u001b[0;36m_standardize_user_data\u001b[0;34m(self, x, y, sample_weight, class_weight, check_batch_axis, batch_size)\u001b[0m\n\u001b[1;32m   1428\u001b[0m                                     \u001b[0moutput_shapes\u001b[0m\u001b[0;34m,\u001b[0m\u001b[0;34m\u001b[0m\u001b[0m\n\u001b[1;32m   1429\u001b[0m                                     \u001b[0mcheck_batch_axis\u001b[0m\u001b[0;34m=\u001b[0m\u001b[0;32mFalse\u001b[0m\u001b[0;34m,\u001b[0m\u001b[0;34m\u001b[0m\u001b[0m\n\u001b[0;32m-> 1430\u001b[0;31m                                     exception_prefix='target')\n\u001b[0m\u001b[1;32m   1431\u001b[0m         sample_weights = _standardize_sample_weights(sample_weight,\n\u001b[1;32m   1432\u001b[0m                                                      self._feed_output_names)\n",
      "\u001b[0;32m~/.conda/envs/rbenv/lib/python3.6/site-packages/keras/engine/training.py\u001b[0m in \u001b[0;36m_standardize_input_data\u001b[0;34m(data, names, shapes, check_batch_axis, exception_prefix)\u001b[0m\n\u001b[1;32m    118\u001b[0m                             \u001b[0;34m': expected '\u001b[0m \u001b[0;34m+\u001b[0m \u001b[0mnames\u001b[0m\u001b[0;34m[\u001b[0m\u001b[0mi\u001b[0m\u001b[0;34m]\u001b[0m \u001b[0;34m+\u001b[0m \u001b[0;34m' to have shape '\u001b[0m \u001b[0;34m+\u001b[0m\u001b[0;34m\u001b[0m\u001b[0m\n\u001b[1;32m    119\u001b[0m                             \u001b[0mstr\u001b[0m\u001b[0;34m(\u001b[0m\u001b[0mshape\u001b[0m\u001b[0;34m)\u001b[0m \u001b[0;34m+\u001b[0m \u001b[0;34m' but got array with shape '\u001b[0m \u001b[0;34m+\u001b[0m\u001b[0;34m\u001b[0m\u001b[0m\n\u001b[0;32m--> 120\u001b[0;31m                             str(data_shape))\n\u001b[0m\u001b[1;32m    121\u001b[0m     \u001b[0;32mreturn\u001b[0m \u001b[0mdata\u001b[0m\u001b[0;34m\u001b[0m\u001b[0m\n\u001b[1;32m    122\u001b[0m \u001b[0;34m\u001b[0m\u001b[0m\n",
      "\u001b[0;31mValueError\u001b[0m: Error when checking target: expected time_distributed_2 to have shape (10, 258) but got array with shape (14, 258)"
     ]
    }
   ],
   "source": [
    "# Note that `decoder_target_data` needs to be one-hot encoded,\n",
    "# rather than sequences of integers like `decoder_input_data`!\n",
    "model.fit([encoder_input_data, decoder_input_data], decoder_target_data,\n",
    "          batch_size=batch_size,\n",
    "          epochs=epochs#,\n",
    "          #validation_split=0.2\n",
    "         )"
   ]
  },
  {
   "cell_type": "code",
   "execution_count": null,
   "metadata": {},
   "outputs": [],
   "source": [
    "# # Next: inference mode (sampling).\n",
    "# # Here's the drill:\n",
    "# # 1) encode input and retrieve initial decoder state\n",
    "# # 2) run one step of decoder with this initial state\n",
    "# # and a \"start of sequence\" token as target.\n",
    "# # Output will be the next target token\n",
    "# # 3) Repeat with the current target token and current states\n",
    "\n",
    "# # Define sampling models\n",
    "# encoder_model = Model(encoder_inputs, encoder_states)\n",
    "# encoder_model.summary()\n",
    "\n",
    "# decoder_state_input_h = Input(shape=(latent_dim,))\n",
    "# decoder_state_input_c = Input(shape=(latent_dim,))\n",
    "# decoder_states_inputs = [decoder_state_input_h, decoder_state_input_c]\n",
    "# decoder_mapped_input = decoder_embedding(decoder_inputs)\n",
    "# decoder_outputs, state_h, state_c = decoder_lstm(decoder_mapped_input, initial_state=decoder_states_inputs)\n",
    "# decoder_states = [state_h, state_c]\n",
    "# decoder_outputs = Flatten()(decoder_outputs)\n",
    "# decoder_outputs = decoder_dense(decoder_outputs)\n",
    "# decoder_model = Model(\n",
    "#     [decoder_inputs] + decoder_states_inputs,\n",
    "#     [decoder_outputs] + decoder_states)\n",
    "# decoder_model.summary()"
   ]
  },
  {
   "cell_type": "code",
   "execution_count": null,
   "metadata": {},
   "outputs": [],
   "source": [
    "# def decode_sequence(input_seq):\n",
    "#     # Encode the input as state vectors.\n",
    "#     states_value = encoder_model.predict(input_seq)\n",
    "\n",
    "#     # Generate empty target sequence of length 1.\n",
    "#     target_seq = np.zeros((1, max_decoder_seq_length), dtype='int32')\n",
    "#     # Populate the first character of target sequence with the start character.\n",
    "#     target_seq[0, 0] = word_id_dict['\\t']\n",
    "\n",
    "#     # Sampling loop for a batch of sequences\n",
    "#     # (to simplify, here we assume a batch of size 1).\n",
    "#     stop_condition = False\n",
    "#     decoded_sentence = ''\n",
    "#     i = 1\n",
    "#     id_word_dict_cpy = id_word_dict.copy()\n",
    "#     id_word_dict_cpy[0] = '0'\n",
    "#     while not stop_condition:\n",
    "# #         print(target_seq)\n",
    "#         output_tokens, h, c = decoder_model.predict(\n",
    "#             [target_seq] + states_value)\n",
    "\n",
    "#         # Sample a token\n",
    "# #         print(\"output_token:\", output_tokens)\n",
    "# #         sampled_char = id_word_dict[int(output_tokens)]\n",
    "#         decoded_sentence = str([id_word_dict_cpy[int(round(output_token))] for output_token in output_tokens[0]])\n",
    "#         if i > 14:\n",
    "#             stop_condition = True\n",
    "#         else:\n",
    "#             target_seq[0, 1:i] = output_tokens[0, 1:i]\n",
    "#             i += 1\n",
    "# #         # Exit condition: either hit max length\n",
    "# #         # or find stop character.\n",
    "# #         if (sampled_char == '\\n' or\n",
    "# #            len(decoded_sentence) > max_decoder_seq_length):\n",
    "# #             stop_condition = True\n",
    "\n",
    "# #         # Update the target sequence (of length 1).\n",
    "# #         target_seq[0, i] = output_tokens\n",
    "# #         i += 1\n",
    "\n",
    "# #         # Update states\n",
    "# #         states_value = [h, c]\n",
    "\n",
    "#     return decoded_sentence"
   ]
  },
  {
   "cell_type": "code",
   "execution_count": null,
   "metadata": {},
   "outputs": [],
   "source": [
    "# for seq_index in range(num_samples):\n",
    "#     # Take one sequence (part of the training set)\n",
    "#     # for trying out decoding.\n",
    "#     input_seq = encoder_input_data[seq_index: seq_index + 1]\n",
    "#     decoded_sentence = decode_sequence(input_seq)\n",
    "#     print('-')\n",
    "#     print('Input sentence:', input_texts[seq_index])\n",
    "#     print('Decoded sentence:', decoded_sentence)"
   ]
  }
 ],
 "metadata": {
  "kernelspec": {
   "display_name": "Python 3",
   "language": "python",
   "name": "python3"
  }
 },
 "nbformat": 4,
 "nbformat_minor": 2
}
